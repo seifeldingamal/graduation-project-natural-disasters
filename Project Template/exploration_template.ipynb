{
 "cells": [
  {
   "cell_type": "markdown",
   "metadata": {},
   "source": [
    "# (Natural Disasters Datasets Exploration)\n",
    "\n",
    "## Preliminary Wrangling\n",
    "\n",
    "> This document is to explore our natural disasters' datasets which contains data from x to y. So, we could explore the patterns and hidden behaviours of natural disasters (earthquakes, volcanos and tsunamis)\n"
   ]
  },
  {
   "cell_type": "code",
   "execution_count": 1,
   "metadata": {},
   "outputs": [],
   "source": [
    "# import all packages\n",
    "import numpy as np\n",
    "import pandas as pd\n",
    "import matplotlib.pyplot as plt\n",
    "import seaborn as sb\n",
    "import requests\n",
    "\n",
    "%matplotlib inline"
   ]
  },
  {
   "cell_type": "markdown",
   "metadata": {},
   "source": [
    "> Our motivation goal is to explore the behaviour of the disasters and to find explanation for the unexpected ones. And to find relation between properties of every disaster (e.g. the relation between the magnitude and focal depth). Also, try to predict some earthquake aspects."
   ]
  },
  {
   "cell_type": "markdown",
   "metadata": {},
   "source": [
    "### What is the structure of your dataset?\n",
    "\n",
    "> Your answer here!\n",
    "\n",
    "### What is/are the main feature(s) of interest in your dataset?\n",
    "\n",
    "> The most important features are the magnitude and focal depth.\n",
    "\n",
    "### What features in the dataset do you think will help support your investigation into your feature(s) of interest?\n",
    "\n",
    "> We have other features that will help us such as longitude, latitude and timestamp. Also, there will be other features we will calculate from the data we have such as the number of aftershocks."
   ]
  },
  {
   "cell_type": "code",
   "execution_count": 2,
   "metadata": {},
   "outputs": [],
   "source": [
    "for i in range(7):\n",
    "    year = 15 + i\n",
    "    month = 1\n",
    "    while month < 12:\n",
    "        start = ''\n",
    "        if(month > 9):\n",
    "            start = month\n",
    "        else:\n",
    "            start = '0{}'.format(month)\n",
    "        \n",
    "        end = month + 1\n",
    "        if(end > 9):\n",
    "            end = end\n",
    "        else:\n",
    "            end = '0{}'.format(end)\n",
    "            \n",
    "        url = 'https://earthquake.usgs.gov/fdsnws/event/1/query.csv?starttime=20{y}-{s}-01%2000:00:00&endtime=20{y}-{e}-01%2023:59:59&orderby=time'.format(y=year, s=start, e=end)\n",
    "        r = requests.get(url, allow_redirects=True)  # to get content after redirection\n",
    "        pdf_url = r.url \n",
    "        name = '20{}-{}-0.csv'.format(year,month)\n",
    "        with open(name, 'wb') as f:\n",
    "            f.write(r.content)\n",
    "        month += 1\n",
    "    url = 'https://earthquake.usgs.gov/fdsnws/event/1/query.csv?starttime=20{y}-12-01%2000:00:00&endtime=20{y2}-01-01%2023:59:59&orderby=time'.format(y=year, y2=year+1 , s=start, e=end)\n",
    "    r = requests.get(url, allow_redirects=True)  # to get content after redirection\n",
    "    pdf_url = r.url \n",
    "    name = '20{}-12-0.csv'.format(year)\n",
    "    with open(name, 'wb') as f:\n",
    "        f.write(r.content)"
   ]
  },
  {
   "cell_type": "code",
   "execution_count": 3,
   "metadata": {},
   "outputs": [],
   "source": [
    "for i in range(18,21):\n",
    "    if(i == 18):\n",
    "        for j in range(6,8):\n",
    "            url = 'https://earthquake.usgs.gov/fdsnws/event/1/query.csv?starttime=20{y}-{s}-01%2000:00:00&endtime=20{y}-{e}-15%2023:59:59&orderby=time'.format(y=i, s=j, e=j)\n",
    "            r = requests.get(url, allow_redirects=True)  # to get content after redirection\n",
    "            pdf_url = r.url \n",
    "            name = '20{}-{}-0.csv'.format(i, j)\n",
    "            with open(name, 'wb') as f:\n",
    "                f.write(r.content)\n",
    "            url = 'https://earthquake.usgs.gov/fdsnws/event/1/query.csv?starttime=20{y}-{s}-16%2000:00:00&endtime=20{y}-{e}-31%2023:59:59&orderby=time'.format(y=i, s=j, e=j)\n",
    "            r = requests.get(url, allow_redirects=True)  # to get content after redirection\n",
    "            pdf_url = r.url \n",
    "            name = '20{}-{}-1.csv'.format(i, j)\n",
    "            with open(name, 'wb') as f:\n",
    "                f.write(r.content)\n",
    "    if(i == 19):\n",
    "        for j in range(7,9):\n",
    "            url = 'https://earthquake.usgs.gov/fdsnws/event/1/query.csv?starttime=20{y}-{s}-01%2000:00:00&endtime=20{y}-{e}-01%2023:59:59&orderby=time'.format(y=i, s=j, e=j)\n",
    "            r = requests.get(url, allow_redirects=True)  # to get content after redirection\n",
    "            pdf_url = r.url \n",
    "            name = '20{}-{}-0.csv'.format(i, j)\n",
    "            with open(name, 'wb') as f:\n",
    "                f.write(r.content)\n",
    "            url = 'https://earthquake.usgs.gov/fdsnws/event/1/query.csv?starttime=20{y}-{s}-16%2000:00:00&endtime=20{y}-{e}-31%2023:59:59&orderby=time'.format(y=i, s=j, e=j)\n",
    "            r = requests.get(url, allow_redirects=True)  # to get content after redirection\n",
    "            pdf_url = r.url \n",
    "            name = '20{}-{}-1.csv'.format(i, j)\n",
    "            with open(name, 'wb') as f:\n",
    "                f.write(r.content)\n",
    "    if(i == 20):\n",
    "        j = 5\n",
    "        url = 'https://earthquake.usgs.gov/fdsnws/event/1/query.csv?starttime=20{y}-{s}-01%2000:00:00&endtime=20{y}-{e}-01%2023:59:59&orderby=time'.format(y=i, s=j, e=j)\n",
    "        r = requests.get(url, allow_redirects=True)  # to get content after redirection\n",
    "        pdf_url = r.url \n",
    "        name = '20{}-{}-0.csv'.format(i, j)\n",
    "        with open(name, 'wb') as f:\n",
    "            f.write(r.content)\n",
    "        url = 'https://earthquake.usgs.gov/fdsnws/event/1/query.csv?starttime=20{y}-{s}-16%2000:00:00&endtime=20{y}-{e}-31%2023:59:59&orderby=time'.format(y=i, s=j, e=j)\n",
    "        r = requests.get(url, allow_redirects=True)  # to get content after redirection\n",
    "        pdf_url = r.url \n",
    "        name = '20{}-{}-1.csv'.format(i, j)\n",
    "        with open(name, 'wb') as f:\n",
    "            f.write(r.content)"
   ]
  },
  {
   "cell_type": "markdown",
   "metadata": {},
   "source": [
    "## Univariate Exploration\n",
    "\n",
    "> In this section, investigate distributions of individual variables. If\n",
    "you see unusual points or outliers, take a deeper look to clean things up\n",
    "and prepare yourself to look at relationships between variables."
   ]
  },
  {
   "cell_type": "code",
   "execution_count": null,
   "metadata": {},
   "outputs": [],
   "source": []
  },
  {
   "cell_type": "markdown",
   "metadata": {},
   "source": [
    "> Make sure that, after every plot or related series of plots, that you\n",
    "include a Markdown cell with comments about what you observed, and what\n",
    "you plan on investigating next."
   ]
  },
  {
   "cell_type": "code",
   "execution_count": null,
   "metadata": {},
   "outputs": [],
   "source": []
  },
  {
   "cell_type": "markdown",
   "metadata": {},
   "source": [
    "### Discuss the distribution(s) of your variable(s) of interest. Were there any unusual points? Did you need to perform any transformations?\n",
    "\n",
    "> Your answer here!\n",
    "\n",
    "### Of the features you investigated, were there any unusual distributions? Did you perform any operations on the data to tidy, adjust, or change the form of the data? If so, why did you do this?\n",
    "\n",
    "> Your answer here!"
   ]
  },
  {
   "cell_type": "markdown",
   "metadata": {},
   "source": [
    "## Bivariate Exploration\n",
    "\n",
    "> In this section, investigate relationships between pairs of variables in your\n",
    "data. Make sure the variables that you cover here have been introduced in some\n",
    "fashion in the previous section (univariate exploration)."
   ]
  },
  {
   "cell_type": "code",
   "execution_count": null,
   "metadata": {},
   "outputs": [],
   "source": []
  },
  {
   "cell_type": "markdown",
   "metadata": {},
   "source": [
    "### Talk about some of the relationships you observed in this part of the investigation. How did the feature(s) of interest vary with other features in the dataset?\n",
    "\n",
    "> Your answer here!\n",
    "\n",
    "### Did you observe any interesting relationships between the other features (not the main feature(s) of interest)?\n",
    "\n",
    "> Your answer here!"
   ]
  },
  {
   "cell_type": "markdown",
   "metadata": {},
   "source": [
    "## Multivariate Exploration\n",
    "\n",
    "> Create plots of three or more variables to investigate your data even\n",
    "further. Make sure that your investigations are justified, and follow from\n",
    "your work in the previous sections."
   ]
  },
  {
   "cell_type": "code",
   "execution_count": null,
   "metadata": {},
   "outputs": [],
   "source": []
  },
  {
   "cell_type": "markdown",
   "metadata": {},
   "source": [
    "### Talk about some of the relationships you observed in this part of the investigation. Were there features that strengthened each other in terms of looking at your feature(s) of interest?\n",
    "\n",
    "> Your answer here!\n",
    "\n",
    "### Were there any interesting or surprising interactions between features?\n",
    "\n",
    "> Your answer here!"
   ]
  },
  {
   "cell_type": "markdown",
   "metadata": {},
   "source": [
    "> At the end of your report, make sure that you export the notebook as an\n",
    "html file from the `File > Download as... > HTML` menu. Make sure you keep\n",
    "track of where the exported file goes, so you can put it in the same folder\n",
    "as this notebook for project submission. Also, make sure you remove all of\n",
    "the quote-formatted guide notes like this one before you finish your report!"
   ]
  },
  {
   "cell_type": "code",
   "execution_count": null,
   "metadata": {},
   "outputs": [],
   "source": []
  }
 ],
 "metadata": {
  "kernelspec": {
   "display_name": "Python 3",
   "language": "python",
   "name": "python3"
  },
  "language_info": {
   "codemirror_mode": {
    "name": "ipython",
    "version": 3
   },
   "file_extension": ".py",
   "mimetype": "text/x-python",
   "name": "python",
   "nbconvert_exporter": "python",
   "pygments_lexer": "ipython3",
   "version": "3.8.10"
  }
 },
 "nbformat": 4,
 "nbformat_minor": 2
}
