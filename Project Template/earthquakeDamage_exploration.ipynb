{
 "cells": [
  {
   "cell_type": "markdown",
   "metadata": {},
   "source": [
    "## Earthquake Damage Data Exploration\n",
    "\n",
    "### Preliminary Wrangling\n",
    "\n",
    "> This file explores the damages and deaths caused by earthquakes in the 21st century"
   ]
  },
  {
   "cell_type": "code",
   "execution_count": 36,
   "metadata": {},
   "outputs": [],
   "source": [
    "import numpy as np\n",
    "import pandas as pd\n",
    "import seaborn as sb\n",
    "import matplotlib.pyplot as plt\n",
    "import us\n",
    "\n",
    "%matplotlib inline"
   ]
  },
  {
   "cell_type": "code",
   "execution_count": 25,
   "metadata": {},
   "outputs": [],
   "source": [
    "df = pd.read_csv(r'C:\\Users\\pc\\graduation-project-natural-disasters-main\\Project Template\\earthquakeDamage.csv', header = 0)"
   ]
  },
  {
   "cell_type": "code",
   "execution_count": 26,
   "metadata": {},
   "outputs": [
    {
     "name": "stdout",
     "output_type": "stream",
     "text": [
      "<class 'pandas.core.frame.DataFrame'>\n",
      "RangeIndex: 1223 entries, 0 to 1222\n",
      "Data columns (total 38 columns):\n",
      " #   Column                              Non-Null Count  Dtype  \n",
      "---  ------                              --------------  -----  \n",
      " 0   Year                                1223 non-null   int64  \n",
      " 1   Mo                                  1223 non-null   int64  \n",
      " 2   Dy                                  1223 non-null   int64  \n",
      " 3   Hr                                  1222 non-null   float64\n",
      " 4   Mn                                  1222 non-null   float64\n",
      " 5   Sec                                 1219 non-null   float64\n",
      " 6   Tsu                                 241 non-null    float64\n",
      " 7   Vol                                 11 non-null     float64\n",
      " 8   Location Name                       1223 non-null   object \n",
      " 9   Latitude                            1223 non-null   float64\n",
      " 10  Longitude                           1223 non-null   float64\n",
      " 11  Focal Depth (km)                    1212 non-null   float64\n",
      " 12  Mag                                 1220 non-null   float64\n",
      " 13  MMI Int                             306 non-null    float64\n",
      " 14  Deaths                              483 non-null    float64\n",
      " 15  Death Description                   485 non-null    float64\n",
      " 16  Missing                             17 non-null     float64\n",
      " 17  Missing Description                 16 non-null     float64\n",
      " 18  Injuries                            646 non-null    float64\n",
      " 19  Injuries Description                695 non-null    float64\n",
      " 20  Damage ($Mil)                       143 non-null    float64\n",
      " 21  Damage Description                  995 non-null    float64\n",
      " 22  Houses Destroyed                    310 non-null    float64\n",
      " 23  Houses Destroyed Description        458 non-null    float64\n",
      " 24  Houses Damaged                      350 non-null    float64\n",
      " 25  Houses Damaged Description          584 non-null    float64\n",
      " 26  Total Deaths                        493 non-null    float64\n",
      " 27  Total Death Description             493 non-null    float64\n",
      " 28  Total Missing                       18 non-null     float64\n",
      " 29  Total Missing Description           20 non-null     float64\n",
      " 30  Total Injuries                      656 non-null    float64\n",
      " 31  Total Injuries Description          705 non-null    float64\n",
      " 32  Total Damage ($Mil)                 150 non-null    float64\n",
      " 33  Total Damage Description            1001 non-null   float64\n",
      " 34  Total Houses Destroyed              314 non-null    float64\n",
      " 35  Total Houses Destroyed Description  460 non-null    float64\n",
      " 36  Total Houses Damaged                339 non-null    float64\n",
      " 37  Total Houses Damaged Description    569 non-null    float64\n",
      "dtypes: float64(34), int64(3), object(1)\n",
      "memory usage: 363.2+ KB\n"
     ]
    }
   ],
   "source": [
    "df.info()"
   ]
  },
  {
   "cell_type": "code",
   "execution_count": 27,
   "metadata": {},
   "outputs": [],
   "source": [
    "#Delete the unwanted columns from the data\n",
    "df.drop(['Tsu', 'Vol', 'MMI Int', 'Deaths', 'Death Description', 'Missing', 'Missing Description', 'Injuries', 'Injuries Description',\n",
    "           'Damage ($Mil)', 'Damage Description', 'Houses Destroyed', 'Houses Destroyed Description', 'Houses Damaged', 'Houses Damaged Description',\n",
    "           'Total Missing', 'Total Missing Description', 'Total Houses Destroyed', 'Total Houses Destroyed Description'], axis=1, inplace = True)"
   ]
  },
  {
   "cell_type": "code",
   "execution_count": 28,
   "metadata": {},
   "outputs": [
    {
     "name": "stdout",
     "output_type": "stream",
     "text": [
      "<class 'pandas.core.frame.DataFrame'>\n",
      "RangeIndex: 1223 entries, 0 to 1222\n",
      "Data columns (total 19 columns):\n",
      " #   Column                            Non-Null Count  Dtype  \n",
      "---  ------                            --------------  -----  \n",
      " 0   Year                              1223 non-null   int64  \n",
      " 1   Mo                                1223 non-null   int64  \n",
      " 2   Dy                                1223 non-null   int64  \n",
      " 3   Hr                                1222 non-null   float64\n",
      " 4   Mn                                1222 non-null   float64\n",
      " 5   Sec                               1219 non-null   float64\n",
      " 6   Location Name                     1223 non-null   object \n",
      " 7   Latitude                          1223 non-null   float64\n",
      " 8   Longitude                         1223 non-null   float64\n",
      " 9   Focal Depth (km)                  1212 non-null   float64\n",
      " 10  Mag                               1220 non-null   float64\n",
      " 11  Total Deaths                      493 non-null    float64\n",
      " 12  Total Death Description           493 non-null    float64\n",
      " 13  Total Injuries                    656 non-null    float64\n",
      " 14  Total Injuries Description        705 non-null    float64\n",
      " 15  Total Damage ($Mil)               150 non-null    float64\n",
      " 16  Total Damage Description          1001 non-null   float64\n",
      " 17  Total Houses Damaged              339 non-null    float64\n",
      " 18  Total Houses Damaged Description  569 non-null    float64\n",
      "dtypes: float64(15), int64(3), object(1)\n",
      "memory usage: 181.7+ KB\n"
     ]
    }
   ],
   "source": [
    "df.info()"
   ]
  },
  {
   "cell_type": "code",
   "execution_count": 29,
   "metadata": {},
   "outputs": [
    {
     "data": {
      "text/html": [
       "<div>\n",
       "<style scoped>\n",
       "    .dataframe tbody tr th:only-of-type {\n",
       "        vertical-align: middle;\n",
       "    }\n",
       "\n",
       "    .dataframe tbody tr th {\n",
       "        vertical-align: top;\n",
       "    }\n",
       "\n",
       "    .dataframe thead th {\n",
       "        text-align: right;\n",
       "    }\n",
       "</style>\n",
       "<table border=\"1\" class=\"dataframe\">\n",
       "  <thead>\n",
       "    <tr style=\"text-align: right;\">\n",
       "      <th></th>\n",
       "      <th>Year</th>\n",
       "      <th>Mo</th>\n",
       "      <th>Dy</th>\n",
       "      <th>Hr</th>\n",
       "      <th>Mn</th>\n",
       "      <th>Sec</th>\n",
       "      <th>Latitude</th>\n",
       "      <th>Longitude</th>\n",
       "      <th>Focal Depth (km)</th>\n",
       "      <th>Mag</th>\n",
       "      <th>Total Deaths</th>\n",
       "      <th>Total Death Description</th>\n",
       "      <th>Total Injuries</th>\n",
       "      <th>Total Injuries Description</th>\n",
       "      <th>Total Damage ($Mil)</th>\n",
       "      <th>Total Damage Description</th>\n",
       "      <th>Total Houses Damaged</th>\n",
       "      <th>Total Houses Damaged Description</th>\n",
       "      <th>country</th>\n",
       "    </tr>\n",
       "  </thead>\n",
       "  <tbody>\n",
       "    <tr>\n",
       "      <th>0</th>\n",
       "      <td>2000</td>\n",
       "      <td>1</td>\n",
       "      <td>3</td>\n",
       "      <td>22.0</td>\n",
       "      <td>34.0</td>\n",
       "      <td>12.6</td>\n",
       "      <td>22.132</td>\n",
       "      <td>92.771</td>\n",
       "      <td>33.0</td>\n",
       "      <td>4.6</td>\n",
       "      <td>NaN</td>\n",
       "      <td>NaN</td>\n",
       "      <td>NaN</td>\n",
       "      <td>NaN</td>\n",
       "      <td>NaN</td>\n",
       "      <td>1.0</td>\n",
       "      <td>100.0</td>\n",
       "      <td>2.0</td>\n",
       "      <td>INDIA-BANGLADESH BORDER</td>\n",
       "    </tr>\n",
       "    <tr>\n",
       "      <th>1</th>\n",
       "      <td>2000</td>\n",
       "      <td>1</td>\n",
       "      <td>11</td>\n",
       "      <td>23.0</td>\n",
       "      <td>43.0</td>\n",
       "      <td>56.4</td>\n",
       "      <td>40.498</td>\n",
       "      <td>122.994</td>\n",
       "      <td>10.0</td>\n",
       "      <td>5.1</td>\n",
       "      <td>NaN</td>\n",
       "      <td>NaN</td>\n",
       "      <td>30.0</td>\n",
       "      <td>1.0</td>\n",
       "      <td>NaN</td>\n",
       "      <td>3.0</td>\n",
       "      <td>8800.0</td>\n",
       "      <td>4.0</td>\n",
       "      <td>CHINA</td>\n",
       "    </tr>\n",
       "    <tr>\n",
       "      <th>2</th>\n",
       "      <td>2000</td>\n",
       "      <td>1</td>\n",
       "      <td>14</td>\n",
       "      <td>23.0</td>\n",
       "      <td>37.0</td>\n",
       "      <td>7.8</td>\n",
       "      <td>25.607</td>\n",
       "      <td>101.063</td>\n",
       "      <td>33.0</td>\n",
       "      <td>5.9</td>\n",
       "      <td>7.0</td>\n",
       "      <td>1.0</td>\n",
       "      <td>2528.0</td>\n",
       "      <td>4.0</td>\n",
       "      <td>73.5</td>\n",
       "      <td>4.0</td>\n",
       "      <td>NaN</td>\n",
       "      <td>NaN</td>\n",
       "      <td>CHINA</td>\n",
       "    </tr>\n",
       "    <tr>\n",
       "      <th>3</th>\n",
       "      <td>2000</td>\n",
       "      <td>2</td>\n",
       "      <td>2</td>\n",
       "      <td>22.0</td>\n",
       "      <td>58.0</td>\n",
       "      <td>1.5</td>\n",
       "      <td>35.288</td>\n",
       "      <td>58.218</td>\n",
       "      <td>33.0</td>\n",
       "      <td>5.3</td>\n",
       "      <td>1.0</td>\n",
       "      <td>1.0</td>\n",
       "      <td>15.0</td>\n",
       "      <td>1.0</td>\n",
       "      <td>NaN</td>\n",
       "      <td>2.0</td>\n",
       "      <td>300.0</td>\n",
       "      <td>3.0</td>\n",
       "      <td>IRAN</td>\n",
       "    </tr>\n",
       "    <tr>\n",
       "      <th>4</th>\n",
       "      <td>2000</td>\n",
       "      <td>2</td>\n",
       "      <td>7</td>\n",
       "      <td>19.0</td>\n",
       "      <td>34.0</td>\n",
       "      <td>57.0</td>\n",
       "      <td>-26.288</td>\n",
       "      <td>30.888</td>\n",
       "      <td>5.0</td>\n",
       "      <td>4.5</td>\n",
       "      <td>NaN</td>\n",
       "      <td>NaN</td>\n",
       "      <td>1.0</td>\n",
       "      <td>1.0</td>\n",
       "      <td>NaN</td>\n",
       "      <td>1.0</td>\n",
       "      <td>NaN</td>\n",
       "      <td>NaN</td>\n",
       "      <td>SOUTH AFRICA; SWAZILAND</td>\n",
       "    </tr>\n",
       "  </tbody>\n",
       "</table>\n",
       "</div>"
      ],
      "text/plain": [
       "   Year  Mo  Dy    Hr    Mn   Sec  Latitude  Longitude  Focal Depth (km)  Mag  \\\n",
       "0  2000   1   3  22.0  34.0  12.6    22.132     92.771              33.0  4.6   \n",
       "1  2000   1  11  23.0  43.0  56.4    40.498    122.994              10.0  5.1   \n",
       "2  2000   1  14  23.0  37.0   7.8    25.607    101.063              33.0  5.9   \n",
       "3  2000   2   2  22.0  58.0   1.5    35.288     58.218              33.0  5.3   \n",
       "4  2000   2   7  19.0  34.0  57.0   -26.288     30.888               5.0  4.5   \n",
       "\n",
       "   Total Deaths  Total Death Description  Total Injuries  \\\n",
       "0           NaN                      NaN             NaN   \n",
       "1           NaN                      NaN            30.0   \n",
       "2           7.0                      1.0          2528.0   \n",
       "3           1.0                      1.0            15.0   \n",
       "4           NaN                      NaN             1.0   \n",
       "\n",
       "   Total Injuries Description  Total Damage ($Mil)  Total Damage Description  \\\n",
       "0                         NaN                  NaN                       1.0   \n",
       "1                         1.0                  NaN                       3.0   \n",
       "2                         4.0                 73.5                       4.0   \n",
       "3                         1.0                  NaN                       2.0   \n",
       "4                         1.0                  NaN                       1.0   \n",
       "\n",
       "   Total Houses Damaged  Total Houses Damaged Description  \\\n",
       "0                 100.0                               2.0   \n",
       "1                8800.0                               4.0   \n",
       "2                   NaN                               NaN   \n",
       "3                 300.0                               3.0   \n",
       "4                   NaN                               NaN   \n",
       "\n",
       "                   country  \n",
       "0  INDIA-BANGLADESH BORDER  \n",
       "1                    CHINA  \n",
       "2                    CHINA  \n",
       "3                     IRAN  \n",
       "4  SOUTH AFRICA; SWAZILAND  "
      ]
     },
     "execution_count": 29,
     "metadata": {},
     "output_type": "execute_result"
    }
   ],
   "source": [
    "def splitPlace(place):\n",
    "    strArr = place.split(\":\")\n",
    "    country = strArr[0]\n",
    "    return country\n",
    "\n",
    "df['country'] = df.apply(lambda x: splitPlace(x['Location Name']), axis = 1)\n",
    "df.drop(['Location Name'], axis=1, inplace = True)\n",
    "df.head()"
   ]
  },
  {
   "cell_type": "code",
   "execution_count": 30,
   "metadata": {},
   "outputs": [
    {
     "name": "stdout",
     "output_type": "stream",
     "text": [
      "<class 'pandas.core.frame.DataFrame'>\n",
      "RangeIndex: 1223 entries, 0 to 1222\n",
      "Data columns (total 19 columns):\n",
      " #   Column                            Non-Null Count  Dtype  \n",
      "---  ------                            --------------  -----  \n",
      " 0   Year                              1223 non-null   int64  \n",
      " 1   Mo                                1223 non-null   int64  \n",
      " 2   Dy                                1223 non-null   int64  \n",
      " 3   Hr                                1222 non-null   float64\n",
      " 4   Mn                                1222 non-null   float64\n",
      " 5   Sec                               1219 non-null   float64\n",
      " 6   Latitude                          1223 non-null   float64\n",
      " 7   Longitude                         1223 non-null   float64\n",
      " 8   Focal Depth (km)                  1212 non-null   float64\n",
      " 9   Mag                               1220 non-null   float64\n",
      " 10  Total Deaths                      493 non-null    float64\n",
      " 11  Total Death Description           493 non-null    float64\n",
      " 12  Total Injuries                    656 non-null    float64\n",
      " 13  Total Injuries Description        705 non-null    float64\n",
      " 14  Total Damage ($Mil)               150 non-null    float64\n",
      " 15  Total Damage Description          1001 non-null   float64\n",
      " 16  Total Houses Damaged              339 non-null    float64\n",
      " 17  Total Houses Damaged Description  569 non-null    float64\n",
      " 18  country                           1223 non-null   object \n",
      "dtypes: float64(15), int64(3), object(1)\n",
      "memory usage: 181.7+ KB\n"
     ]
    }
   ],
   "source": [
    "df.info()"
   ]
  },
  {
   "cell_type": "code",
   "execution_count": 22,
   "metadata": {},
   "outputs": [
    {
     "name": "stdout",
     "output_type": "stream",
     "text": [
      "<class 'pandas.core.frame.DataFrame'>\n",
      "RangeIndex: 1223 entries, 0 to 1222\n",
      "Data columns (total 38 columns):\n",
      " #   Column                              Non-Null Count  Dtype  \n",
      "---  ------                              --------------  -----  \n",
      " 0   Year                                1223 non-null   int64  \n",
      " 1   Mo                                  1223 non-null   int64  \n",
      " 2   Dy                                  1223 non-null   int64  \n",
      " 3   Hr                                  1222 non-null   float64\n",
      " 4   Mn                                  1222 non-null   float64\n",
      " 5   Sec                                 1219 non-null   float64\n",
      " 6   Tsu                                 241 non-null    float64\n",
      " 7   Vol                                 11 non-null     float64\n",
      " 8   Latitude                            1223 non-null   float64\n",
      " 9   Longitude                           1223 non-null   float64\n",
      " 10  Focal Depth (km)                    1212 non-null   float64\n",
      " 11  Mag                                 1220 non-null   float64\n",
      " 12  MMI Int                             306 non-null    float64\n",
      " 13  Deaths                              483 non-null    float64\n",
      " 14  Death Description                   485 non-null    float64\n",
      " 15  Missing                             17 non-null     float64\n",
      " 16  Missing Description                 16 non-null     float64\n",
      " 17  Injuries                            646 non-null    float64\n",
      " 18  Injuries Description                695 non-null    float64\n",
      " 19  Damage ($Mil)                       143 non-null    float64\n",
      " 20  Damage Description                  995 non-null    float64\n",
      " 21  Houses Destroyed                    310 non-null    float64\n",
      " 22  Houses Destroyed Description        458 non-null    float64\n",
      " 23  Houses Damaged                      350 non-null    float64\n",
      " 24  Houses Damaged Description          584 non-null    float64\n",
      " 25  TotalDeaths                         493 non-null    float64\n",
      " 26  TotalDeathDescription               493 non-null    float64\n",
      " 27  Total Missing                       18 non-null     float64\n",
      " 28  Total Missing Description           20 non-null     float64\n",
      " 29  Total Injuries                      656 non-null    float64\n",
      " 30  TotalInjuriesDescription            705 non-null    float64\n",
      " 31  Total Damage ($Mil)                 150 non-null    float64\n",
      " 32  TotalDamageDescription              1001 non-null   float64\n",
      " 33  Total Houses Destroyed              314 non-null    float64\n",
      " 34  Total Houses Destroyed Description  460 non-null    float64\n",
      " 35  Total Houses Damaged                339 non-null    float64\n",
      " 36  TotalHousesDamagedDescription       569 non-null    float64\n",
      " 37  country                             1223 non-null   object \n",
      "dtypes: float64(34), int64(3), object(1)\n",
      "memory usage: 363.2+ KB\n"
     ]
    }
   ],
   "source": [
    "df.rename(columns={'Total Deaths': 'TotalDeaths', 'Total Death Description': 'TotalDeathDescription',\n",
    "                     'Total Injuries Description': 'TotalInjuriesDescription', 'Total Damage Description': 'TotalDamageDescription',\n",
    "                     'Total Houses Damaged Description': 'TotalHousesDamagedDescription'}, inplace=True)\n",
    "df.info()"
   ]
  },
  {
   "cell_type": "code",
   "execution_count": 31,
   "metadata": {},
   "outputs": [
    {
     "name": "stdout",
     "output_type": "stream",
     "text": [
      "<class 'pandas.core.frame.DataFrame'>\n",
      "Int64Index: 1220 entries, 0 to 1222\n",
      "Data columns (total 19 columns):\n",
      " #   Column                            Non-Null Count  Dtype  \n",
      "---  ------                            --------------  -----  \n",
      " 0   Year                              1220 non-null   int64  \n",
      " 1   Mo                                1220 non-null   int64  \n",
      " 2   Dy                                1220 non-null   int64  \n",
      " 3   Hr                                1219 non-null   float64\n",
      " 4   Mn                                1219 non-null   float64\n",
      " 5   Sec                               1217 non-null   float64\n",
      " 6   Latitude                          1220 non-null   float64\n",
      " 7   Longitude                         1220 non-null   float64\n",
      " 8   Focal Depth (km)                  1210 non-null   float64\n",
      " 9   Mag                               1220 non-null   float64\n",
      " 10  Total Deaths                      491 non-null    float64\n",
      " 11  Total Death Description           491 non-null    float64\n",
      " 12  Total Injuries                    655 non-null    float64\n",
      " 13  Total Injuries Description        704 non-null    float64\n",
      " 14  Total Damage ($Mil)               150 non-null    float64\n",
      " 15  Total Damage Description          999 non-null    float64\n",
      " 16  Total Houses Damaged              339 non-null    float64\n",
      " 17  Total Houses Damaged Description  568 non-null    float64\n",
      " 18  country                           1220 non-null   object \n",
      "dtypes: float64(15), int64(3), object(1)\n",
      "memory usage: 190.6+ KB\n"
     ]
    }
   ],
   "source": [
    "df = df[df['Mag'].notna()]\n",
    "df.info()"
   ]
  },
  {
   "cell_type": "code",
   "execution_count": 32,
   "metadata": {},
   "outputs": [
    {
     "name": "stdout",
     "output_type": "stream",
     "text": [
      "<class 'pandas.core.frame.DataFrame'>\n",
      "Int64Index: 1220 entries, 0 to 1222\n",
      "Data columns (total 19 columns):\n",
      " #   Column                            Non-Null Count  Dtype  \n",
      "---  ------                            --------------  -----  \n",
      " 0   Year                              1220 non-null   int64  \n",
      " 1   Mo                                1220 non-null   int64  \n",
      " 2   Dy                                1220 non-null   int64  \n",
      " 3   Hr                                1219 non-null   float64\n",
      " 4   Mn                                1219 non-null   float64\n",
      " 5   Sec                               1217 non-null   float64\n",
      " 6   Latitude                          1220 non-null   float64\n",
      " 7   Longitude                         1220 non-null   float64\n",
      " 8   Focal Depth (km)                  1210 non-null   float64\n",
      " 9   Mag                               1220 non-null   float64\n",
      " 10  Total Deaths                      1220 non-null   float64\n",
      " 11  Total Death Description           1220 non-null   float64\n",
      " 12  Total Injuries                    1220 non-null   float64\n",
      " 13  Total Injuries Description        1220 non-null   float64\n",
      " 14  Total Damage ($Mil)               1220 non-null   float64\n",
      " 15  Total Damage Description          1220 non-null   float64\n",
      " 16  Total Houses Damaged              1220 non-null   float64\n",
      " 17  Total Houses Damaged Description  1220 non-null   float64\n",
      " 18  country                           1220 non-null   object \n",
      "dtypes: float64(15), int64(3), object(1)\n",
      "memory usage: 190.6+ KB\n"
     ]
    }
   ],
   "source": [
    "df['Total Death Description'].fillna(0, inplace = True)\n",
    "df['Total Injuries Description'].fillna(0, inplace = True)\n",
    "df['Total Damage Description'].fillna(0, inplace = True)\n",
    "df['Total Houses Damaged Description'].fillna(0, inplace = True)\n",
    "df['Total Injuries'].fillna(0, inplace = True)\n",
    "df['Total Damage ($Mil)'].fillna(0, inplace = True)\n",
    "df['Total Houses Damaged'].fillna(0, inplace = True)\n",
    "df['Total Deaths'].fillna(0, inplace = True)\n",
    "df.info()"
   ]
  },
  {
   "cell_type": "code",
   "execution_count": 40,
   "metadata": {},
   "outputs": [],
   "source": [
    "state_names = [state.name for state in us.states.STATES_AND_TERRITORIES]\n",
    "\n",
    "for i in range(len(state_names)):\n",
    "    state_names[i] = state_names[i].upper()\n",
    "\n",
    "def changeCountry(stateName):\n",
    "    if stateName in state_names or stateName in state_abbr:\n",
    "        return 'United States'\n",
    "    else:\n",
    "        return stateName\n",
    "    \n",
    "    \n",
    "df['country'] = df.apply(lambda x: changeCountry(x['country']), axis = 1)"
   ]
  },
  {
   "cell_type": "code",
   "execution_count": 42,
   "metadata": {},
   "outputs": [],
   "source": [
    "df.to_csv('damage.csv')"
   ]
  },
  {
   "cell_type": "markdown",
   "metadata": {},
   "source": [
    "## Univariate Exploration\n",
    "\n",
    "> In this section, investigate distributions of individual variables. If you see unusual points or outliers, take a deeper look to clean things up and prepare yourself to look at relationships between variables."
   ]
  },
  {
   "cell_type": "code",
   "execution_count": 11,
   "metadata": {},
   "outputs": [
    {
     "data": {
      "text/html": [
       "<div>\n",
       "<style scoped>\n",
       "    .dataframe tbody tr th:only-of-type {\n",
       "        vertical-align: middle;\n",
       "    }\n",
       "\n",
       "    .dataframe tbody tr th {\n",
       "        vertical-align: top;\n",
       "    }\n",
       "\n",
       "    .dataframe thead th {\n",
       "        text-align: right;\n",
       "    }\n",
       "</style>\n",
       "<table border=\"1\" class=\"dataframe\">\n",
       "  <thead>\n",
       "    <tr style=\"text-align: right;\">\n",
       "      <th></th>\n",
       "      <th>Year</th>\n",
       "      <th>Mo</th>\n",
       "      <th>Dy</th>\n",
       "      <th>Hr</th>\n",
       "      <th>Mn</th>\n",
       "      <th>Sec</th>\n",
       "      <th>Latitude</th>\n",
       "      <th>Longitude</th>\n",
       "      <th>Focal Depth (km)</th>\n",
       "      <th>Mag</th>\n",
       "      <th>TotalDeaths</th>\n",
       "      <th>TotalDeathDescription</th>\n",
       "      <th>TotalInjuriesDescription</th>\n",
       "      <th>TotalDamageDescription</th>\n",
       "      <th>TotalHousesDamagedDescription</th>\n",
       "    </tr>\n",
       "  </thead>\n",
       "  <tbody>\n",
       "    <tr>\n",
       "      <th>count</th>\n",
       "      <td>1220.000000</td>\n",
       "      <td>1220.000000</td>\n",
       "      <td>1220.000000</td>\n",
       "      <td>1219.000000</td>\n",
       "      <td>1219.000000</td>\n",
       "      <td>1217.000000</td>\n",
       "      <td>1220.000000</td>\n",
       "      <td>1220.000000</td>\n",
       "      <td>1210.000000</td>\n",
       "      <td>1220.000000</td>\n",
       "      <td>1220.000000</td>\n",
       "      <td>1220.000000</td>\n",
       "      <td>1220.000000</td>\n",
       "      <td>1220.000000</td>\n",
       "      <td>1220.000000</td>\n",
       "    </tr>\n",
       "    <tr>\n",
       "      <th>mean</th>\n",
       "      <td>2010.099180</td>\n",
       "      <td>6.485246</td>\n",
       "      <td>15.640164</td>\n",
       "      <td>11.402789</td>\n",
       "      <td>29.387203</td>\n",
       "      <td>28.547247</td>\n",
       "      <td>17.663142</td>\n",
       "      <td>50.830175</td>\n",
       "      <td>31.060331</td>\n",
       "      <td>5.952951</td>\n",
       "      <td>673.148361</td>\n",
       "      <td>0.513115</td>\n",
       "      <td>0.973770</td>\n",
       "      <td>1.553279</td>\n",
       "      <td>1.161475</td>\n",
       "    </tr>\n",
       "    <tr>\n",
       "      <th>std</th>\n",
       "      <td>5.861891</td>\n",
       "      <td>3.473412</td>\n",
       "      <td>8.704474</td>\n",
       "      <td>7.143338</td>\n",
       "      <td>17.507897</td>\n",
       "      <td>17.608726</td>\n",
       "      <td>24.349903</td>\n",
       "      <td>87.516043</td>\n",
       "      <td>64.731414</td>\n",
       "      <td>1.057137</td>\n",
       "      <td>11689.663668</td>\n",
       "      <td>0.777446</td>\n",
       "      <td>1.125861</td>\n",
       "      <td>1.209593</td>\n",
       "      <td>1.473637</td>\n",
       "    </tr>\n",
       "    <tr>\n",
       "      <th>min</th>\n",
       "      <td>2000.000000</td>\n",
       "      <td>1.000000</td>\n",
       "      <td>1.000000</td>\n",
       "      <td>0.000000</td>\n",
       "      <td>0.000000</td>\n",
       "      <td>0.000000</td>\n",
       "      <td>-61.825000</td>\n",
       "      <td>-179.971000</td>\n",
       "      <td>0.000000</td>\n",
       "      <td>1.600000</td>\n",
       "      <td>0.000000</td>\n",
       "      <td>0.000000</td>\n",
       "      <td>0.000000</td>\n",
       "      <td>0.000000</td>\n",
       "      <td>0.000000</td>\n",
       "    </tr>\n",
       "    <tr>\n",
       "      <th>25%</th>\n",
       "      <td>2005.000000</td>\n",
       "      <td>3.000000</td>\n",
       "      <td>8.000000</td>\n",
       "      <td>5.000000</td>\n",
       "      <td>14.000000</td>\n",
       "      <td>13.000000</td>\n",
       "      <td>-1.392750</td>\n",
       "      <td>11.480000</td>\n",
       "      <td>10.000000</td>\n",
       "      <td>5.200000</td>\n",
       "      <td>0.000000</td>\n",
       "      <td>0.000000</td>\n",
       "      <td>0.000000</td>\n",
       "      <td>1.000000</td>\n",
       "      <td>0.000000</td>\n",
       "    </tr>\n",
       "    <tr>\n",
       "      <th>50%</th>\n",
       "      <td>2010.000000</td>\n",
       "      <td>7.000000</td>\n",
       "      <td>16.000000</td>\n",
       "      <td>11.000000</td>\n",
       "      <td>29.000000</td>\n",
       "      <td>27.900000</td>\n",
       "      <td>25.582500</td>\n",
       "      <td>73.423500</td>\n",
       "      <td>14.000000</td>\n",
       "      <td>5.900000</td>\n",
       "      <td>0.000000</td>\n",
       "      <td>0.000000</td>\n",
       "      <td>1.000000</td>\n",
       "      <td>1.000000</td>\n",
       "      <td>0.000000</td>\n",
       "    </tr>\n",
       "    <tr>\n",
       "      <th>75%</th>\n",
       "      <td>2015.000000</td>\n",
       "      <td>9.000000</td>\n",
       "      <td>23.000000</td>\n",
       "      <td>18.000000</td>\n",
       "      <td>45.000000</td>\n",
       "      <td>43.700000</td>\n",
       "      <td>36.881250</td>\n",
       "      <td>119.996250</td>\n",
       "      <td>32.000000</td>\n",
       "      <td>6.700000</td>\n",
       "      <td>2.000000</td>\n",
       "      <td>1.000000</td>\n",
       "      <td>1.000000</td>\n",
       "      <td>2.000000</td>\n",
       "      <td>2.000000</td>\n",
       "    </tr>\n",
       "    <tr>\n",
       "      <th>max</th>\n",
       "      <td>2021.000000</td>\n",
       "      <td>12.000000</td>\n",
       "      <td>31.000000</td>\n",
       "      <td>23.000000</td>\n",
       "      <td>59.000000</td>\n",
       "      <td>59.900000</td>\n",
       "      <td>64.004000</td>\n",
       "      <td>179.444000</td>\n",
       "      <td>675.000000</td>\n",
       "      <td>9.100000</td>\n",
       "      <td>316000.000000</td>\n",
       "      <td>4.000000</td>\n",
       "      <td>4.000000</td>\n",
       "      <td>4.000000</td>\n",
       "      <td>4.000000</td>\n",
       "    </tr>\n",
       "  </tbody>\n",
       "</table>\n",
       "</div>"
      ],
      "text/plain": [
       "              Year           Mo           Dy           Hr           Mn  \\\n",
       "count  1220.000000  1220.000000  1220.000000  1219.000000  1219.000000   \n",
       "mean   2010.099180     6.485246    15.640164    11.402789    29.387203   \n",
       "std       5.861891     3.473412     8.704474     7.143338    17.507897   \n",
       "min    2000.000000     1.000000     1.000000     0.000000     0.000000   \n",
       "25%    2005.000000     3.000000     8.000000     5.000000    14.000000   \n",
       "50%    2010.000000     7.000000    16.000000    11.000000    29.000000   \n",
       "75%    2015.000000     9.000000    23.000000    18.000000    45.000000   \n",
       "max    2021.000000    12.000000    31.000000    23.000000    59.000000   \n",
       "\n",
       "               Sec     Latitude    Longitude  Focal Depth (km)          Mag  \\\n",
       "count  1217.000000  1220.000000  1220.000000       1210.000000  1220.000000   \n",
       "mean     28.547247    17.663142    50.830175         31.060331     5.952951   \n",
       "std      17.608726    24.349903    87.516043         64.731414     1.057137   \n",
       "min       0.000000   -61.825000  -179.971000          0.000000     1.600000   \n",
       "25%      13.000000    -1.392750    11.480000         10.000000     5.200000   \n",
       "50%      27.900000    25.582500    73.423500         14.000000     5.900000   \n",
       "75%      43.700000    36.881250   119.996250         32.000000     6.700000   \n",
       "max      59.900000    64.004000   179.444000        675.000000     9.100000   \n",
       "\n",
       "         TotalDeaths  TotalDeathDescription  TotalInjuriesDescription  \\\n",
       "count    1220.000000            1220.000000               1220.000000   \n",
       "mean      673.148361               0.513115                  0.973770   \n",
       "std     11689.663668               0.777446                  1.125861   \n",
       "min         0.000000               0.000000                  0.000000   \n",
       "25%         0.000000               0.000000                  0.000000   \n",
       "50%         0.000000               0.000000                  1.000000   \n",
       "75%         2.000000               1.000000                  1.000000   \n",
       "max    316000.000000               4.000000                  4.000000   \n",
       "\n",
       "       TotalDamageDescription  TotalHousesDamagedDescription  \n",
       "count             1220.000000                    1220.000000  \n",
       "mean                 1.553279                       1.161475  \n",
       "std                  1.209593                       1.473637  \n",
       "min                  0.000000                       0.000000  \n",
       "25%                  1.000000                       0.000000  \n",
       "50%                  1.000000                       0.000000  \n",
       "75%                  2.000000                       2.000000  \n",
       "max                  4.000000                       4.000000  "
      ]
     },
     "execution_count": 11,
     "metadata": {},
     "output_type": "execute_result"
    }
   ],
   "source": [
    "df.describe()"
   ]
  },
  {
   "cell_type": "code",
   "execution_count": 12,
   "metadata": {},
   "outputs": [
    {
     "data": {
      "image/png": "[encoded data removed]",
      "text/plain": [
       "<Figure size 576x360 with 1 Axes>"
      ]
     },
     "metadata": {
      "needs_background": "light"
     },
     "output_type": "display_data"
    }
   ],
   "source": [
    "#Plot magnitude on a standard scale\n",
    "binsize = 0.5\n",
    "bins = np.arange(1, df['TotalDeathDescription'].max()+1, binsize)\n",
    "\n",
    "plt.figure(figsize=[8, 5])\n",
    "plt.hist(data = df, x = 'TotalDeathDescription', bins = bins)\n",
    "plt.xlabel('Total Death Description')\n",
    "plt.show()"
   ]
  },
  {
   "cell_type": "code",
   "execution_count": 14,
   "metadata": {},
   "outputs": [
    {
     "data": {
      "image/png": "[encoded data removed]",
      "text/plain": [
       "<Figure size 576x360 with 1 Axes>"
      ]
     },
     "metadata": {
      "needs_background": "light"
     },
     "output_type": "display_data"
    }
   ],
   "source": [
    "#Plot magnitude on a standard scale\n",
    "binsize = 0.5\n",
    "bins = np.arange(1, df['TotalInjuriesDescription'].max()+1, binsize)\n",
    "\n",
    "plt.figure(figsize=[8, 5])\n",
    "plt.hist(data = df, x = 'TotalInjuriesDescription', bins = bins)\n",
    "plt.xlabel('Total Injuries Description')\n",
    "plt.show()"
   ]
  },
  {
   "cell_type": "code",
   "execution_count": 15,
   "metadata": {},
   "outputs": [
    {
     "data": {
      "image/png": "[encoded data removed]",
      "text/plain": [
       "<Figure size 576x360 with 1 Axes>"
      ]
     },
     "metadata": {
      "needs_background": "light"
     },
     "output_type": "display_data"
    }
   ],
   "source": [
    "#Plot magnitude on a standard scale\n",
    "binsize = 0.5\n",
    "bins = np.arange(1, df['TotalDamageDescription'].max()+1, binsize)\n",
    "\n",
    "plt.figure(figsize=[8, 5])\n",
    "plt.hist(data = df, x = 'TotalDamageDescription', bins = bins)\n",
    "plt.xlabel('Total Damage Description')\n",
    "plt.show()"
   ]
  },
  {
   "cell_type": "code",
   "execution_count": 16,
   "metadata": {
    "scrolled": true
   },
   "outputs": [
    {
     "data": {
      "image/png": "[encoded data removed]",
      "text/plain": [
       "<Figure size 576x360 with 1 Axes>"
      ]
     },
     "metadata": {
      "needs_background": "light"
     },
     "output_type": "display_data"
    }
   ],
   "source": [
    "#Plot magnitude on a standard scale\n",
    "binsize = 0.5\n",
    "bins = np.arange(1, df['TotalHousesDamagedDescription'].max()+1, binsize)\n",
    "\n",
    "plt.figure(figsize=[8, 5])\n",
    "plt.hist(data = df, x = 'TotalHousesDamagedDescription', bins = bins)\n",
    "plt.xlabel('Total Houses Damaged Description')\n",
    "plt.show()"
   ]
  },
  {
   "cell_type": "markdown",
   "metadata": {},
   "source": [
    "## Bivariate Exploration\n",
    "\n",
    "> In this section, investigate relationships between pairs of variables in your data. Make sure the variables that you cover here have been introduced in some fashion in the previous section (univariate exploration)."
   ]
  },
  {
   "cell_type": "code",
   "execution_count": 19,
   "metadata": {},
   "outputs": [],
   "source": [
    "numeric_vars = ['Mag', 'Focal Depth (km)', 'TotalDeaths', 'TotalDeathDescription', 'TotalInjuriesDescription',\n",
    "                'TotalDamageDescription', 'TotalHousesDamagedDescription']"
   ]
  },
  {
   "cell_type": "code",
   "execution_count": 20,
   "metadata": {},
   "outputs": [
    {
     "data": {
      "image/png": "[encoded data removed]",
      "text/plain": [
       "<Figure size 576x432 with 2 Axes>"
      ]
     },
     "metadata": {
      "needs_background": "light"
     },
     "output_type": "display_data"
    }
   ],
   "source": [
    "# correlation plot\n",
    "plt.figure(figsize = [8, 6])\n",
    "sb.heatmap(df[numeric_vars].corr(), annot = True, fmt = '.2f', cmap = 'vlag_r', center = 0);"
   ]
  },
  {
   "cell_type": "code",
   "execution_count": 21,
   "metadata": {},
   "outputs": [
    {
     "data": {
      "text/plain": [
       "<AxesSubplot:xlabel='country', ylabel='count'>"
      ]
     },
     "execution_count": 21,
     "metadata": {},
     "output_type": "execute_result"
    },
    {
     "data": {
      "image/png": "[encoded data removed]",
      "text/plain": [
       "<Figure size 1440x1440 with 1 Axes>"
      ]
     },
     "metadata": {
      "needs_background": "light"
     },
     "output_type": "display_data"
    }
   ],
   "source": [
    "plt.figure(figsize = [20, 20])\n",
    "\n",
    "\n",
    "plt.subplot(3, 1, 1)\n",
    "sb.countplot(data = df, x = 'country', hue = 'TotalDeathDescription', palette = 'Reds', order=pd.value_counts(df['country']).iloc[:5].index)"
   ]
  },
  {
   "cell_type": "code",
   "execution_count": 23,
   "metadata": {},
   "outputs": [
    {
     "data": {
      "text/plain": [
       "<AxesSubplot:xlabel='country', ylabel='count'>"
      ]
     },
     "execution_count": 23,
     "metadata": {},
     "output_type": "execute_result"
    },
    {
     "data": {
      "image/png": "[encoded data removed]",
      "text/plain": [
       "<Figure size 1440x1440 with 1 Axes>"
      ]
     },
     "metadata": {
      "needs_background": "light"
     },
     "output_type": "display_data"
    }
   ],
   "source": [
    "plt.figure(figsize = [20, 20])\n",
    "\n",
    "\n",
    "plt.subplot(3, 1, 1)\n",
    "sb.countplot(data = df, x = 'country', hue = 'TotalInjuriesDescription', palette = 'Reds', order=pd.value_counts(df['country']).iloc[:5].index)"
   ]
  },
  {
   "cell_type": "code",
   "execution_count": 26,
   "metadata": {},
   "outputs": [
    {
     "data": {
      "text/plain": [
       "<AxesSubplot:xlabel='country', ylabel='count'>"
      ]
     },
     "execution_count": 26,
     "metadata": {},
     "output_type": "execute_result"
    },
    {
     "data": {
      "image/png": "[encoded data removed]",
      "text/plain": [
       "<Figure size 1440x1440 with 1 Axes>"
      ]
     },
     "metadata": {
      "needs_background": "light"
     },
     "output_type": "display_data"
    }
   ],
   "source": [
    "plt.figure(figsize = [20, 20])\n",
    "\n",
    "\n",
    "plt.subplot(3, 1, 1)\n",
    "sb.countplot(data = df, x = 'country', hue = 'TotalDamageDescription', palette = 'Reds', order=pd.value_counts(df['country']).iloc[:5].index)"
   ]
  },
  {
   "cell_type": "code",
   "execution_count": 25,
   "metadata": {},
   "outputs": [
    {
     "data": {
      "text/plain": [
       "<AxesSubplot:xlabel='country', ylabel='count'>"
      ]
     },
     "execution_count": 25,
     "metadata": {},
     "output_type": "execute_result"
    },
    {
     "data": {
      "image/png": "[encoded data removed]",
      "text/plain": [
       "<Figure size 1440x1440 with 1 Axes>"
      ]
     },
     "metadata": {
      "needs_background": "light"
     },
     "output_type": "display_data"
    }
   ],
   "source": [
    "plt.figure(figsize = [20, 20])\n",
    "\n",
    "\n",
    "plt.subplot(3, 1, 1)\n",
    "sb.countplot(data = df, x = 'country', hue = 'TotalHousesDamagedDescription', palette = 'Reds', order=pd.value_counts(df['country']).iloc[:5].index)"
   ]
  }
 ],
 "metadata": {
  "kernelspec": {
   "display_name": "Python 3",
   "language": "python",
   "name": "python3"
  },
  "language_info": {
   "codemirror_mode": {
    "name": "ipython",
    "version": 3
   },
   "file_extension": ".py",
   "mimetype": "text/x-python",
   "name": "python",
   "nbconvert_exporter": "python",
   "pygments_lexer": "ipython3",
   "version": "3.8.5"
  }
 },
 "nbformat": 4,
 "nbformat_minor": 4
}
